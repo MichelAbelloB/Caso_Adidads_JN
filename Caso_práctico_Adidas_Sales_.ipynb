{
  "cells": [
    {
      "cell_type": "markdown",
      "source": [
        "\n",
        "_Inteligencia de Cliente (CRM)_\n",
        "\n",
        "_Máster Universitario en Inteligencia de Negocio_\n",
        "\n",
        "# Toma de decisiones estratégicas I: Análisis descriptivo de los datos(EDA) Adidas Sales\n",
        "\n",
        "\n",
        " En este caso práctico se lleva a cabo un análisis exploratorio e los datos (EDA) de las ventas de Adidas. El objetivo que persigue este análisis es identificar información clave que ayude a lanzar nuevos productos, mejorar el rendimiento de las ventas y a optimizar sus estrategias comerciales. Este análisis nos permitirá responder preguntas como:\n",
        "\n",
        "- ¿Qué productos están destacando en ventas y cuáles tienen un rendimiento inferior?\n",
        "- ¿Qué tiendas están registrando buenas ventas y cuáles se están quedando atrás?\n",
        "- ¿Tiene el margen de beneficio un impacto significativo en las ventas?\n",
        "- ¿Qué canal es más efectivo para las ventas?\n",
        "- ¿Qué productos son más rentables en cada ubicación?\n",
        "- ¿Existe un rango de precios específico que consiga mejores ventas que otros?\n",
        "- ¿Qué ubicaciones de tiendas obtienen mejores y peores resultados?\n",
        "- ¿Existe algún tipo de componente estacional en las ventas?\n",
        "- ¿Es posible realizar una predicción de las ventas mensuales?\n",
        "\n",
        "\n",
        "Para llevarlo a cabo disponemos de un conjunto de datos sobre su actividad comercial en EEUU. La descripción del conjunto de datos disponible es la siguiente:\n",
        "\n",
        "\n",
        "- **Retailer**: Distribuidor. Empresas como Foot Locker, Walmart, Sports Direct, and West Gear.\n",
        "- **Retailer ID**: Identificador único de cada distribuidor.\n",
        "- **Invoice Date**: Fecha en la que la factura fue generada.\n",
        "- **Region**: Áreas geográficas de EEUU como West, Northeast, Southeast, South, and Mid-west.\n",
        "- **Product**: Categorías de productos como Men’s and Women’s Street, Athletic Footwear, Apparel.\n",
        "- **Price per Unit**: Coste unitario de un artículo de un determinado producto específico.\n",
        "- **Units Sold**: La cantidad de un producto vendido en un plazo determinado\n",
        "- **Total Sales**: Total de ingresos por ventas durante un periodo determinado.\n",
        "- **Operating Profit**: Una medida de la rentabilidad. Beneficio obtenido por el minorista de sus operaciones comerciales.\n",
        "- **Operating Margin**: Una medida de la rentabilidad. Margen de beneficio obtenido por el minorista en sus operaciones comerciales.\n",
        "- **Sales Method**: Los canales a través de los cuales se realizaron las ventas, incluidos los canales en tienda física (store), outlet y tienda online.\n"
      ],
      "metadata": {
        "id": "O3et2Yhs287z"
      }
    },
    {
      "cell_type": "markdown",
      "source": [
        "## 0. Importación de librerias y carga de datos"
      ],
      "metadata": {
        "id": "IY8V4JOXuVHw"
      }
    },
    {
      "cell_type": "code",
      "source": [
        "pip install us # La librería us no viene instalada en Colab por lo que la instalamos. Se utiliza para formatear unidades, validar cadenas de texto..."
      ],
      "metadata": {
        "id": "pfhTQ5KuXvSf"
      },
      "execution_count": null,
      "outputs": []
    },
    {
      "cell_type": "code",
      "execution_count": null,
      "metadata": {
        "id": "JgU9Th6i2cGw"
      },
      "outputs": [],
      "source": [
        "# Importamos las librerías necesarias\n",
        "import numpy as np # Nos permite hacer calculos estadísticos como la media, mediana, hacer filtrados de datos...\n",
        "import pandas as pd #Nos permite leer los datos en diferentes formatos, tratar valores faltantes, transformar datos....\n",
        "from matplotlib import pyplot as plt # Permite hacer gráficos y visualizaciones como histogramas, diagramas de dispersión...\n",
        "import seaborn as sns # Permite crear visualizaciones de una forma más sencilla, tiene temas prededifinidos para gráficos...\n",
        "import plotly.express as px # Permite crear gráficos interactivos y hacerlo con menos código\n",
        "import plotly.graph_objs as go # Permite crear gráficos interactivos y personalizar elementos del gráfico.\n",
        "from statsmodels.tsa.seasonal import seasonal_decompose # Permite descomponer en series temporales.\n",
        "from statsmodels.tsa.arima.model import ARIMA #Permite utilizar el modelo ARIMA para el análisis y pronóstico de series temporales."
      ]
    },
    {
      "cell_type": "code",
      "execution_count": null,
      "metadata": {
        "id": "VIHmkJkR2cGz"
      },
      "outputs": [],
      "source": [
        "# Cargamos el dataset en Colab\n",
        "from google.colab import files\n",
        "uploaded = files.upload()"
      ]
    },
    {
      "cell_type": "code",
      "source": [
        "# Leemos el dataset\n",
        "import io\n",
        "data = pd.read_excel(io.BytesIO(uploaded['Adidas US Sales Datasets.xlsx']))\n",
        "data.head(10)"
      ],
      "metadata": {
        "id": "IDa5IKmjV_5m"
      },
      "execution_count": null,
      "outputs": []
    },
    {
      "cell_type": "markdown",
      "source": [
        "## 1. Análisis de la estructura de los datos y sus principales estadísticas"
      ],
      "metadata": {
        "id": "ITVHTmmA_fwo"
      }
    },
    {
      "cell_type": "markdown",
      "source": [
        "En este paso vemos el número de variables que tiene el dataset, el número de observaciones o instancias, si hay celdas vacías o con valores erróneos y todo lo relacionado con la calidad de los datos. Realizar este análsis nos permitirá preparar los datos para la aplicación de los distintos algoritmos de machine lerning y alcanzar conclusiones."
      ],
      "metadata": {
        "id": "Jy7IF11EoBf-"
      }
    },
    {
      "cell_type": "code",
      "execution_count": null,
      "metadata": {
        "id": "MnqBqNCQ2cG2"
      },
      "outputs": [],
      "source": [
        "# Vemos el número de instancias y variables que tiene el dataset\n",
        "data.shape"
      ]
    },
    {
      "cell_type": "markdown",
      "source": [
        "**Pregunta:** ¿Cuántas variables tiene el dataset? ¿Cuántas instancias tiene el dataset?"
      ],
      "metadata": {
        "id": "YAGSgYcsEclS"
      }
    },
    {
      "cell_type": "markdown",
      "source": [
        "**Respuesta:** Tiene 13 variables y 9648 instancias."
      ],
      "metadata": {
        "id": "e_kT3P0I__yx"
      }
    },
    {
      "cell_type": "code",
      "execution_count": null,
      "metadata": {
        "id": "61PSlAIj2cG2"
      },
      "outputs": [],
      "source": [
        "# Comprobamos la existencia de filas duplicadas\n",
        "data.duplicated().sum()"
      ]
    },
    {
      "cell_type": "markdown",
      "source": [
        "**Pregunta:** ¿Existen filas duplicadas en el dataset?"
      ],
      "metadata": {
        "id": "bf4rqsQOEkFj"
      }
    },
    {
      "cell_type": "markdown",
      "source": [
        "**Respuesta:** No"
      ],
      "metadata": {
        "id": "vzT_93ayAacB"
      }
    },
    {
      "cell_type": "code",
      "source": [
        "#Vemos qué tipo de variables contiene el dataset y qué valores no contienen nulos\n",
        "data.info()"
      ],
      "metadata": {
        "id": "VjniEzjzFMX8"
      },
      "execution_count": null,
      "outputs": []
    },
    {
      "cell_type": "markdown",
      "source": [
        "**Pregunta:** ¿Cuántas variables numéricas tiene el dataset? ¿Cuántas de tipo caracter o string?"
      ],
      "metadata": {
        "id": "p8yjesSbFM0p"
      }
    },
    {
      "cell_type": "markdown",
      "source": [
        "**Respuesta:** Existen tres tipos de variables:\n",
        "\n",
        "- Numéricas (enteras int64 ó decimales float64).\n",
        "- De texto o \"strings\" (object).\n",
        "- De tipo fecha (datetime)"
      ],
      "metadata": {
        "id": "cvo7IAwtFMrD"
      }
    },
    {
      "cell_type": "code",
      "source": [
        "# Generamos estadísticas descriptivas  de los datos numéricos para tener una visión de alto nivel de la estructura  de los datos\n",
        "data.describe()"
      ],
      "metadata": {
        "id": "5uXBLxqtEuwz"
      },
      "execution_count": null,
      "outputs": []
    },
    {
      "cell_type": "markdown",
      "source": [
        "**Pregunta:** ¿Cómo están distribuidos los datos? Describe en términos generales sus principales medidas , media, desviación estándar, min y max y quartiles."
      ],
      "metadata": {
        "id": "NCcVgKliEvUK"
      }
    },
    {
      "cell_type": "markdown",
      "source": [
        "**Respuesta:**\n",
        "- Vemos que todas las variables tienen el mismo número de instancias, 9468 que coincide con el numero de instancias del dataset lo que nos da a entender que no hay valores faltantes o celdas vacias.\n",
        "- Vemos que la media es razonable respecto a los valores minimos y maximos que adopta la variable.\n",
        "- Respecto a la variable precio si observamos la distribución por cuartiles vemos que el 25% de las unidades se vendieron por debajo de 35 dólares, el 50% por debajo de 45 dólares y el 75% por debajo de 55 dólares. Podemos pensar que la demanda se ha concentrado entre los 35 y 55 dólares por ejemplo.\n",
        "- En relación al total de ventas si observamos también los cuartiles que el 25 % de las ventas totales (ventas totales durante un periodo determinado) han sido iguales o inferiores a 4.254 dólares, el 50% se ha situado por debajo de 9576 dólares y el 75% por debajo de 150.000. A priori parece que la diferencia entre los rangos intercuartílicos 25 y 75 existe una diferencia considerable lo que puede indicar una distribución no homogénea en las ventas."
      ],
      "metadata": {
        "id": "WL62Xq4hEvMR"
      }
    },
    {
      "cell_type": "code",
      "execution_count": null,
      "metadata": {
        "id": "NYpxmHp52cG3"
      },
      "outputs": [],
      "source": [
        "#Dibujamos los histogramas de las variables numéricas para conocer su distribución\n",
        "data.hist(figsize=(20, 20), bins=50, xlabelsize=8, ylabelsize=8);"
      ]
    },
    {
      "cell_type": "code",
      "source": [
        "#Analizamos las estadísticas de la variable de interés  \"Price per Unit\" . Esta variable la consideramos de interés porque será útil para para predecir el precio en un futuro\n",
        "data['Price per Unit'].describe()"
      ],
      "metadata": {
        "id": "MTT4Y-xUHMvs"
      },
      "execution_count": null,
      "outputs": []
    },
    {
      "cell_type": "markdown",
      "source": [
        "**Pregunta:** ¿Cómo es la distribución de la variable Price per Unit? Describe en términos generales sus principales medidas , media, desviación estándar, min y max y quartiles."
      ],
      "metadata": {
        "id": "xEkRiT-oHNJT"
      }
    },
    {
      "cell_type": "markdown",
      "source": [
        "**Respuesta:** Si nos fijamos por ejemplo en la variable que representa el precio por unidad, vemos que la media de precios de los artículos es de 45,2 dólares , con un máximo de 110 dólares y un mínimo de 7 dólares."
      ],
      "metadata": {
        "id": "uJKinm4aHNA0"
      }
    },
    {
      "cell_type": "code",
      "source": [
        "#Analizamos la variable \"Product\". En esta ocasión necesitamos sabersaber si es categórica o no. Esto es importante si deseamos por ejemplo si queremos predecir que tipo de producto se vende más en una ubicación\n",
        "print('Product: ',data['Product'].unique())"
      ],
      "metadata": {
        "id": "doSVm-2SHpKT"
      },
      "execution_count": null,
      "outputs": []
    },
    {
      "cell_type": "markdown",
      "source": [
        "**Pregunta:** ¿Piensas que la variable Product es una variable categórica?"
      ],
      "metadata": {
        "id": "0r5UO9hWHp-c"
      }
    },
    {
      "cell_type": "markdown",
      "source": [
        "**Respuesta:** Si, es una variable de tipo string (object) que solo puede tomar un limitado conjunto de valores. Esta comprobación la hacemos dado que si pretendemos utilizarla para realizar futuras predicciones de clasificación."
      ],
      "metadata": {
        "id": "CIQzS9uCHp2M"
      }
    },
    {
      "cell_type": "code",
      "execution_count": null,
      "metadata": {
        "id": "m1UFaLBE2cG3"
      },
      "outputs": [],
      "source": [
        "# Realizamos las tareas de limpieza del dataset. Para elllo visualizamos el total de valores nulos de cada variable del dataset. Si los hay tendremos que valorar si los eliminamos o sustituimos.\n",
        "data.isnull().sum()"
      ]
    },
    {
      "cell_type": "markdown",
      "source": [
        "**Pregunta:** ¿Existen valores nulos en el dataset?"
      ],
      "metadata": {
        "id": "xok5myDaG2Ba"
      }
    },
    {
      "cell_type": "markdown",
      "source": [
        "**Respuesta:** No"
      ],
      "metadata": {
        "id": "-JEICj1qG13s"
      }
    },
    {
      "cell_type": "markdown",
      "source": [
        "**Pregunta**¿Qué deberíamos hacer si existieran?"
      ],
      "metadata": {
        "id": "iqTF3106cqP4"
      }
    },
    {
      "cell_type": "markdown",
      "source": [
        "**Respuesta**: Tendríamos que ver el motivo por el que esos valores aparecen como nulos y valorar si los eliminamos o no. Si una variable tuviera muchos nulos podríamos valorar eliminarlos, por ejemplo a partir de un 10%. Si no podriamos sustituirlos por su media o por su mediana. Dependiendo del tipo de variable,la distribución de los datos o el tipo de análisis puede ser más o menos util utilizar la una o la otra. Por ejemplo si hablamos de precio podriamos sustituir por la media, en el caso de tipo de producto lo haríamos por la mediana."
      ],
      "metadata": {
        "id": "YKqi0rySc2vo"
      }
    },
    {
      "cell_type": "code",
      "source": [
        "# Seleccionar solo las columnas numéricas\n",
        "df_numeric = data.select_dtypes(include=['float64', 'int64'])\n",
        "\n",
        "#Realizamos la matriz de correlación entre las variables\n",
        "correlation_matrix = df_numeric.corr(method ='pearson')\n",
        "\n",
        "# Crear un mapa de calor con seaborn\n",
        "plt.figure(figsize=(12,8))\n",
        "sns.heatmap(correlation_matrix, annot=True, cmap='coolwarm', vmin=-1, vmax=1)\n",
        "plt.title('Matriz de Correlación')\n",
        "plt.show()"
      ],
      "metadata": {
        "id": "3IsXIumLZpDa"
      },
      "execution_count": null,
      "outputs": []
    },
    {
      "cell_type": "markdown",
      "metadata": {
        "id": "FcTkkNWu2cG4"
      },
      "source": [
        "## 2. Análisis del rendimiento de las ventas: ¿Qué productos están destacando en ventas y cuáles no?"
      ]
    },
    {
      "cell_type": "code",
      "execution_count": null,
      "metadata": {
        "id": "iTJORGQ22cG4"
      },
      "outputs": [],
      "source": [
        "# Primero vamos a averiguar los ingresos totales\n",
        "total_revenue = data['Total Sales'].sum()\n",
        "total_revenue"
      ]
    },
    {
      "cell_type": "code",
      "execution_count": null,
      "metadata": {
        "id": "PjZ0npc82cG4"
      },
      "outputs": [],
      "source": [
        "# Agrupamos los productos en función de sus ingresos por las ventas totales (Total Sales) y de las unidades vendidas de cada producto (Units Sold)\n",
        "product_sales = data.groupby('Product').agg({'Total Sales': 'sum', 'Units Sold': 'sum'}).reset_index()\n",
        "\n",
        "# Ordenamos el resultado de los productos en función de los ingresos por las ventas totales de cada uno en orden descendente para identificar los productos con mejores resultados.\n",
        "top_performing_products = product_sales.sort_values(by='Total Sales', ascending=False).head()\n",
        "\n",
        "# Visualizamos los resultados\n",
        "print(\"Top-Performing Products:\")\n",
        "top_performing_products"
      ]
    },
    {
      "cell_type": "code",
      "execution_count": null,
      "metadata": {
        "id": "ISlyK4MC2cG4"
      },
      "outputs": [],
      "source": [
        "# Ahora, a partir del resultado anterior, mostramos los últimos productos de la lista que muestran los productos con menos ingresos por ventas y por tanto los productos con peores resultados.\n",
        "underperforming_products = product_sales.sort_values(by='Total Sales', ascending=False).tail()\n",
        "\n",
        "print(\"\\nUnderperforming Products:\")\n",
        "underperforming_products"
      ]
    },
    {
      "cell_type": "markdown",
      "source": [
        "**Pregunta:** ¿Por cuál de los productos obtenemos más ingresos? ¿Y menos?"
      ],
      "metadata": {
        "id": "9g4DyMYkPNP2"
      }
    },
    {
      "cell_type": "markdown",
      "metadata": {
        "id": "dl4GnvPz2cG4"
      },
      "source": [
        "**Respuesta:** Las zapatillas de vestir para hombre \"Men's Street Footware\" es el productopor el que se han obtenido un mayor número de ingresos en ventas con unas ventas de 208.826.244 dólares ibtenidos con la venta de 59.3320 unidades.\n",
        "\n",
        "El producto con peores resultados es calzado deportivo para mujer \"Women's Athletic Footwear\", con un total de ingresos por ventas de 106.631.896 dólares a partir de la venta de 317236 unidades.\n",
        "\n",
        "Cabe destacar que nos estamos fijando en los ingresos totales por las ventas de cada producto. Si nos fijamos en el número de unidades vendidas vemos que por ejemplo que hay más unidades vendidas del producto \"Men's Athletic Footwear\" (435526) que del producto \"Women's Apparel\" (433827), pero sus ingresos totales son menores, normalmente por un precio por unidad menor. Algo que podemos comprobar a partir de la siguiente celda."
      ]
    },
    {
      "cell_type": "code",
      "source": [
        "# Agrupamos los productos en función de sus ingresos por las ventas totales (Total Sales) y de las unidades vendidas de cada producto (Units Sold)\n",
        "data.groupby('Product').agg({'Price per Unit': 'mean'}).reset_index()"
      ],
      "metadata": {
        "id": "4yfJXNxzTcaG"
      },
      "execution_count": null,
      "outputs": []
    },
    {
      "cell_type": "markdown",
      "metadata": {
        "id": "DS99utEZ2cG4"
      },
      "source": [
        "## 3. Análisis del mercado regional: ¿Qué tiendas registran mayores ventas y cuáles menos?"
      ]
    },
    {
      "cell_type": "code",
      "execution_count": null,
      "metadata": {
        "id": "bjKFeNif2cG4"
      },
      "outputs": [],
      "source": [
        "# Visualizamos de nuevo las primeras filas del dataset\n",
        "data.head()"
      ]
    },
    {
      "cell_type": "markdown",
      "source": [
        "Para este análisis, vamos a descubrir cuáles son las tienda con mejores y peores resultados en cada una de las ciudades mencionadas. Para ello en primner lugar vamos a ver cuántas ciudades existen y, a continuación, cuántas tiendas existen en cada una de esas ciudades."
      ],
      "metadata": {
        "id": "y5m6UROLeApY"
      }
    },
    {
      "cell_type": "code",
      "source": [
        "#Elegimos la variable City para ver los distintos valores que adopta. Con esto vemos las ciudades distintas que hay en el dataset\n",
        "print('City: ',data['City'].unique())\n",
        "#Mostramos también el número de ciudades distintas\n",
        "print('Number of unique cities: ',data['City'].nunique())"
      ],
      "metadata": {
        "id": "N-vSR9SwdZW6"
      },
      "execution_count": null,
      "outputs": []
    },
    {
      "cell_type": "code",
      "execution_count": null,
      "metadata": {
        "id": "oEBhTM8M2cG5"
      },
      "outputs": [],
      "source": [
        "# Agrupamos cada ciudad ('City') con el número de minoristas existentes en cada ciudad ('Retailer'). Y sumamos el número de unidades vendidas ('Units Sold') para cada una de ellas\n",
        "three_columns_grouped = data.groupby(['City', 'Retailer'])['Units Sold'].sum().reset_index()\n",
        "\n",
        "# Ordenamos los resultados en función de ombre de la ciudad y del número de unidades venididas por cada tienda (orden descendente, de mayor a menor número de unidades vendidas)\n",
        "three_columns_sorted = three_columns_grouped.sort_values(by=['City', 'Units Sold'], ascending=[True, False])\n",
        "\n",
        "# Del resultado, obtenemos los vendedores con un mayor número de unidades vendidas en cada una de las 52 ciudades\n",
        "top_performers = three_columns_sorted.groupby('City').head(1)\n",
        "\n",
        "# Del resultado, obtenemos los vendedores con un menor número de unidades vendidas en cada una de las 52 ciudades\n",
        "worst_performers = three_columns_sorted.groupby('City').tail(1)"
      ]
    },
    {
      "cell_type": "code",
      "execution_count": null,
      "metadata": {
        "id": "kSi4Is0p2cG5"
      },
      "outputs": [],
      "source": [
        "# Visualizamos los resultados: vendedores con un mayor número de unidades vendidas en cada una de las 52 ciudades\n",
        "print(\"Top Performing Retailers in Each City:\")\n",
        "top_performers.head(52)\n"
      ]
    },
    {
      "cell_type": "code",
      "execution_count": null,
      "metadata": {
        "id": "EVz1FnmC2cG5"
      },
      "outputs": [],
      "source": [
        "# Visualizamos los resultados: vendedores con un menor número de unidades vendidas en cada una de las 52 ciudades\n",
        "print(\"\\nWorst Performing Retailers in Each City:\")\n",
        "worst_performers.head(52)"
      ]
    },
    {
      "cell_type": "markdown",
      "source": [
        "**Respuesta:** ¿Qué conclusiones podemos sacar de estos resultados?"
      ],
      "metadata": {
        "id": "ibiXeIzJfnwy"
      }
    },
    {
      "cell_type": "markdown",
      "source": [
        "**Respuesta:** En el resultado obtenemos las tiendas con mejor y peor desempeño de cada ciudad en términos de unidades vendidas. Dicho de otra manera, las tiendas que mueven mayor y menor volumen en cada ciudad.\n",
        "\n",
        "Así, por ejemplo, vemos que en New York\tla tienda que más unidades vende es Foot Locker\tcon 72196 unidades, mientras que la que menos vende es Sports Direct con 5032 unidades.\n",
        "\n",
        "Este último un volumen que no es muy diferente del de la tienda que más vende en Baltimore, que es Foot Locker con 9322 unidades."
      ],
      "metadata": {
        "id": "zjz0h2zffnpa"
      }
    },
    {
      "cell_type": "markdown",
      "metadata": {
        "id": "ly-w7_yG2cG5"
      },
      "source": [
        "## 4. Análisis del margen de beneficios: ¿Influye significativamente el beneficio operativo en las ventas?"
      ]
    },
    {
      "cell_type": "markdown",
      "source": [
        "Una forma rápida y sencilla de valorar si es posible que exista relacién entre el beneficio operativo \"Operating Profit\" de las tiendas y su volumen de ventas \"Total Sales\" o el número de unidades vendidas \"Units Sold\" es ver si existe correlación entre ambas variables."
      ],
      "metadata": {
        "id": "U4b6YCgDhgB7"
      }
    },
    {
      "cell_type": "code",
      "source": [
        "# Seleccionar solo las columnas numéricas\n",
        "df_numeric = data.select_dtypes(include=['float64', 'int64'])\n",
        "\n",
        "#Realizamos la matriz de correlación entre las variables\n",
        "correlation_matrix = df_numeric.corr(method ='pearson')\n",
        "\n",
        "# Crear un mapa de calor con seaborn\n",
        "plt.figure(figsize=(12,8))\n",
        "sns.heatmap(correlation_matrix, annot=True, cmap='coolwarm', vmin=-1, vmax=1)\n",
        "plt.title('Matriz de Correlación')\n",
        "plt.show()"
      ],
      "metadata": {
        "id": "BSoF_Mqehwss"
      },
      "execution_count": null,
      "outputs": []
    },
    {
      "cell_type": "markdown",
      "metadata": {
        "id": "nBOYXKUi2cG6"
      },
      "source": [
        "**Pregunta:** ¿Qué indica el resultado de la correlación entre las variables?"
      ]
    },
    {
      "cell_type": "markdown",
      "metadata": {
        "id": "YaLBsxNk2cG6"
      },
      "source": [
        "**Respuesta:**\n",
        "\n",
        "Correlación Operating Profit vs Total Sales = 0.96\n",
        "Correlación Operating Profit vs Units Sold = 0.89\n",
        "\n",
        "1. En ambos casos la correlación es muy alta, lo que indica que existe una relación estrecha tanto entre el Operating Profit vs Total Sales como entre Operating Profit vs Units sols\n",
        "2. En ambos casos la correlación es positiva, lo que indica que \"a mayor número de ventas, mayor beneficio operativo\"\n",
        "3. La correlación es ligeramente más alta con el número total de ventas vs el número de unidades vendidas, lo que puede indicar que importa un poco menos en el beneficio operativo la cantidad de unidades vendidas vs el total de ingresos obtenidos."
      ]
    },
    {
      "cell_type": "markdown",
      "metadata": {
        "id": "YdAqVGPK2cG6"
      },
      "source": [
        "## 5. Eficacia de los métodos de venta: ¿Qué método de venta es más eficaz:  la tienda física o la tienda online?"
      ]
    },
    {
      "cell_type": "code",
      "execution_count": null,
      "metadata": {
        "id": "3RXqTJR42cG6"
      },
      "outputs": [],
      "source": [
        "# En primer lugar vamos a comprobar los posibles valores de 'sales_method_col', que contiene el canal empleado para la venta\n",
        "data['Sales Method'].unique()"
      ]
    },
    {
      "cell_type": "code",
      "source": [
        "# Ahora vamos a comparar cada uno de los métodos de venta en relación a:\n",
        "# 1. Volumen de ventas (Total Sales)\n",
        "# 2. Beneficio obtenido (Operation Profit)\n",
        "# 3. Margen de beneficio (Operation Margin)\n",
        "\n",
        "#Primero agrupamos el Volumen de ventas y el Beneficio obtenido en relación a cada canal\n",
        "sales_method_grouped = data.groupby('Sales Method').agg({'Total Sales': 'sum', 'Operating Profit': 'sum'})\n",
        "\n",
        "#A continuación añadimos una columna con el margen operativo calculada a partir del Volumen de ventas y el Beneficio obtenidos anteriormente\n",
        "sales_method_grouped['Operating Margin'] = sales_method_grouped['Operating Profit'] / sales_method_grouped['Total Sales']\n",
        "\n",
        "sales_method_grouped"
      ],
      "metadata": {
        "id": "0EBeUh3uY8qm"
      },
      "execution_count": null,
      "outputs": []
    },
    {
      "source": [
        "#Representamos el volumen de ventas en cada canal\n",
        "\n",
        "from matplotlib import pyplot as plt\n",
        "sales_method_grouped['Total Sales'].plot(kind='line', figsize=(8, 4), title='Total Sales')\n",
        "plt.gca().spines[['top', 'right']].set_visible(False)"
      ],
      "cell_type": "code",
      "execution_count": null,
      "outputs": [],
      "metadata": {
        "id": "z3z8WR3HZL3I"
      }
    },
    {
      "cell_type": "code",
      "source": [
        "#Representamos el beneficio obtenido en cada canal\n",
        "\n",
        "from matplotlib import pyplot as plt\n",
        "sales_method_grouped['Operating Profit'].plot(kind='line', figsize=(8, 4), title='Operating Profit')\n",
        "plt.gca().spines[['top', 'right']].set_visible(False)"
      ],
      "metadata": {
        "id": "am1KfkH1Zcwv"
      },
      "execution_count": null,
      "outputs": []
    },
    {
      "cell_type": "code",
      "source": [
        "#Representamos el margen operativo obtenido en cada canal\n",
        "\n",
        "from matplotlib import pyplot as plt\n",
        "sales_method_grouped['Operating Margin'].plot(kind='line', figsize=(8, 4), title='Operating Margin')\n",
        "plt.gca().spines[['top', 'right']].set_visible(False)"
      ],
      "metadata": {
        "id": "iEi9d0YBZkte"
      },
      "execution_count": null,
      "outputs": []
    },
    {
      "cell_type": "code",
      "source": [
        "# Set the background color and figsize\n",
        "plt.figure(figsize = (10, 6))\n",
        "\n",
        "# Create the Violin plot\n",
        "sns.violinplot(x = 'Sales Method', y = 'Price per Unit', data = data, palette = 'cool')\n",
        "\n",
        "# Set the axis and title\n",
        "plt.title('Distribution de los precios de los productos según canal de venta')\n",
        "plt.xlabel('Canal de Venta')\n",
        "plt.ylabel('Precios unitarios de los productos')\n",
        "\n",
        "plt.show()"
      ],
      "metadata": {
        "id": "ake2T_DwxNbb"
      },
      "execution_count": null,
      "outputs": []
    },
    {
      "cell_type": "code",
      "source": [
        "# Set the background color and figsize\n",
        "plt.figure(figsize = (10, 6))\n",
        "\n",
        "# Create the Violin plot\n",
        "sns.violinplot(x = 'Sales Method', y = 'Units Sold', data = data, palette = 'cool')\n",
        "\n",
        "# Set the axis and title\n",
        "plt.title('Distribution de las unidades de productos vendidas según canal de venta')\n",
        "plt.xlabel('Canal de Venta')\n",
        "plt.ylabel('Unidades de productos vendidas')\n",
        "\n",
        "plt.show()"
      ],
      "metadata": {
        "id": "hlR7uzqKzWwm"
      },
      "execution_count": null,
      "outputs": []
    },
    {
      "cell_type": "markdown",
      "source": [
        "**Pregunta:** ¿Qué podemos interpretar a partir de los resultados obtenidos?"
      ],
      "metadata": {
        "id": "Zmmg2JKycdhw"
      }
    },
    {
      "cell_type": "markdown",
      "source": [
        "**Respuesta:**\n",
        "\n",
        "- Ventas totales: - En tienda:  356.643.750 - Online: 247.672.882 - Outlet: 295.585.493 Las ventas en tienda son las más elevadas, seguidas de las ventas outlet y online.\n",
        "\n",
        "- Beneficios de explotación: - En tienda:  127.591.300 (aproximadamente) - Online: 96.555.180 (aproximadamente) - Outlet: 107.988.300 $ (aproximadamente). De forma similar a las ventas totales, las ventas en tienda lideran los beneficios de explotación, seguidas de las de outlet y luego de las online.\n",
        "\n",
        "- Margen de explotación (beneficio de explotación dividido por ventas totales): - En tienda: 0,357756 (o 35,78%) - Online: 0,389850 (o 38,99%) - Outlet: 0,365337 (o 36,53%)\n",
        "\n",
        "- En el outlet se venden productos de precio unitario menor a los que se venden en tienda física y online. En tienda física y online la distribución de precios de los productos es más parecida, aunque en tienda física parece que se venden un poco más productos más caros.\n",
        "\n",
        "Por tanto, mientras que en tienda tenemos las ventas totales y los beneficios más altos, las ventas en línea tienen el margen operativo más alto, lo que indica una mayor rentabilidad en relación con las ventas generadas.\n",
        "\n",
        "Conclusiones: - En términos de Ventas Totales y Beneficio de Explotación: El método de venta en tienda es el más eficaz, ya que genera las mayores ventas totales y beneficios de explotación. - En términos de margen de explotación: Las ventas en línea son las más eficaces, lo que indica que, aunque las ventas totales y el beneficio de explotación son menores que en tienda, la rentabilidad en relación con las ventas generadas es mayor.\n",
        "\n",
        "A la hora de decidir qué método de venta es más eficaz, depende de lo que priorice la empresa. Si el objetivo es maximizar los ingresos y los beneficios totales, las ventas en tienda son más eficaces. Sin embargo, si la atención se centra en la eficiencia en términos de beneficio generado por dólar de ventas, entonces las ventas en línea son más eficaces."
      ],
      "metadata": {
        "id": "vW9JVcRbchLP"
      }
    },
    {
      "cell_type": "code",
      "execution_count": null,
      "metadata": {
        "id": "971cvgeH2cG6"
      },
      "outputs": [],
      "source": [
        "# Cuando dibujamos mapas con la librería plotly, es necesario que los nombres de los estados sean abreviaturas de 2 letras como NY, CA, NJ, etc en lugar de Nueva York, California, Nueva Jersey.\n",
        "# Para conseguirlo usamos una biblioteca llamada \"us\", que nos ayuda a obtener los estados de EEUU como abreviaturas\n",
        "from us import states\n",
        "\n",
        "state_column = data['State']\n",
        "\n",
        "# Obtenemos las abreviaturas de dos letras de los nombres de los estados\n",
        "state_abbreviations = []\n",
        "for state in state_column:\n",
        "    try:\n",
        "        # Vamos recorriendo en la columna cada nombre de estado y obtenemos la abreviatura correspondiente, que almacenamos\n",
        "        # en una nueva variable state_abbreviation\n",
        "        state_abbreviation = states.lookup(state).abbr\n",
        "    except AttributeError:\n",
        "        # En caso de que no se encuentre el estado, completamos con un None\n",
        "        state_abbreviation = None\n",
        "    state_abbreviations.append(state_abbreviation)\n",
        "\n",
        "# Añadimos una nueva columna 'State Abbreviation' al dataframe con las abreviaturas de dos letras de los estados\n",
        "data['State Abbreviation'] = state_abbreviations"
      ]
    },
    {
      "cell_type": "code",
      "execution_count": null,
      "metadata": {
        "id": "JioHgUE52cG6"
      },
      "outputs": [],
      "source": [
        "# Comprobamos que el contenido de la nueva columna es correcto\n",
        "data['State Abbreviation'].head()"
      ]
    },
    {
      "cell_type": "code",
      "source": [
        "# Comprobamos los distintos valores de la nueva columna (no hay ningún None)\n",
        "data['State Abbreviation'].head()\n",
        "data['State Abbreviation'].unique()"
      ],
      "metadata": {
        "id": "qY3t2Dz9eXMw"
      },
      "execution_count": null,
      "outputs": []
    },
    {
      "cell_type": "markdown",
      "metadata": {
        "id": "o3rGMjKc2cG6"
      },
      "source": [
        "#### 4.1 Demonstrating Total Sales by State, Product, and Sales Method in the US using Choropleth Map"
      ]
    },
    {
      "cell_type": "code",
      "execution_count": null,
      "metadata": {
        "id": "44BsSktM2cG6"
      },
      "outputs": [],
      "source": [
        "# Eliminamos de los símbolos de moneda y conversión de \"Total Sales\" a numérico\n",
        "data['Total Sales'] = data['Total Sales'].replace('[\\$,]', '', regex=True).astype(float)\n",
        "\n",
        "# Inicializamos la figura\n",
        "fig = go.Figure()\n",
        "\n",
        "# Obtenemos y almacenamos las listas de productos y métodos de venta existentes\n",
        "products = data['Product'].unique()\n",
        "sales_methods = data['Sales Method'].unique()\n",
        "\n",
        "# Añadir trazas para cada combinación de producto y método de venta\n",
        "for product in products:\n",
        "    for method in sales_methods:\n",
        "        filtered_df = data[(data['Product'] == product) & (data['Sales Method'] == method)]\n",
        "        state_sales = filtered_df.groupby('State Abbreviation')['Total Sales'].sum().reset_index()\n",
        "\n",
        "        fig.add_trace(\n",
        "            go.Choropleth(\n",
        "                locations=state_sales['State Abbreviation'],\n",
        "                z=state_sales['Total Sales'],\n",
        "                locationmode='USA-states',\n",
        "                colorscale='Viridis',\n",
        "                name=f\"{product} - {method}\",\n",
        "                showscale=True,\n",
        "                visible=False  # Inicoamnete todas las trazas se ocultan\n",
        "            )\n",
        "        )\n",
        "\n",
        "# Actualizamos el diseño de la figura con menús desplegables\n",
        "product_buttons = [\n",
        "    {'label': product, 'method': 'update', 'args': [{'visible': [trace.name.startswith(product) for trace in fig.data]}]}\n",
        "    for product in products\n",
        "]\n",
        "\n",
        "sales_method_buttons = [\n",
        "    {'label': method, 'method': 'update', 'args': [{'visible': [method in trace.name for trace in fig.data]}]}\n",
        "    for method in sales_methods\n",
        "]\n",
        "\n",
        "fig.update_layout(\n",
        "    updatemenus=[\n",
        "        {'buttons': product_buttons, 'direction': 'down', 'showactive': True, 'x': 0.25, 'xanchor': 'left', 'y': 1.15, 'yanchor': 'top'},\n",
        "        {'buttons': sales_method_buttons, 'direction': 'down', 'showactive': True, 'x': 0.75, 'xanchor': 'left', 'y': 1.15, 'yanchor': 'top'}\n",
        "    ],\n",
        "    geo=dict(scope='usa'),\n",
        "    title=\"Total Sales by State, Product, and Sales Method\"\n",
        ")\n",
        "\n",
        "# Mostrar inicialmente el primer producto y el primer método de venta\n",
        "if fig.data:\n",
        "    fig.data[0].visible = True\n",
        "\n",
        "fig.show()"
      ]
    },
    {
      "cell_type": "markdown",
      "metadata": {
        "id": "0PeUBrUm2cHC"
      },
      "source": [
        "## 6. Optimización del precio: ¿Existe un rango de precios concreto que consiga mejores ventas que otros?"
      ]
    },
    {
      "cell_type": "code",
      "execution_count": null,
      "metadata": {
        "id": "65tn768q2cHC"
      },
      "outputs": [],
      "source": [
        "# Definimos las franjas de precios que vamos a utilizar\n",
        "bins = [0, 10, 20, 30, 40, 50, 60, 70, 80, 90, 100, 110, 120, 130]\n",
        "\n",
        "# Creamos una nueva columna 'Price Range' que contendrá los rangos de precios a partir de las franjas anteriores\n",
        "data['Price Range'] = pd.cut(data['Price per Unit'], bins)\n",
        "\n",
        "# Agrupamos el volumen total de ventas de cada una de las franjas de precios que hemos creado anteriormente\n",
        "sales_by_price_range = data.groupby('Price Range')['Total Sales'].sum().reset_index()\n",
        "\n",
        "# Ordenamos el resultado en función del volumen de ventas de cada franja, de mayor a menor\n",
        "sorted_sales_by_price_range = sales_by_price_range.sort_values(by='Total Sales', ascending=False)\n",
        "\n",
        "# Presentamos el resultado obtenido\n",
        "sorted_sales_by_price_range"
      ]
    },
    {
      "cell_type": "markdown",
      "source": [
        "**Pregunta:** ¿Qué podemos interpretar a partir de los resultados obtenidos?"
      ],
      "metadata": {
        "id": "7UUDNLP0m8Rb"
      }
    },
    {
      "cell_type": "markdown",
      "metadata": {
        "id": "KUMjx2EL2cHD"
      },
      "source": [
        "**Respuesta:**\n",
        "1.\tLas ventas totales más elevadas se sitúan en la franja de precios de 40 a 50 dólares (220.666.307 dólares), lo que indica que los productos con precios dentro de esta franja son muy populares o tienen una gran demanda.\n",
        "2.\tA continuación se sitúan los precios de 50-60 dólares (210.865.002 dólares) y 60-70 dólares (190.679.285 dólares). Estos rangos también parecen ser eficaces en términos de ventas.\n",
        "3. A medida que el precio aumenta por encima de los 70 dólares, se produce un descenso notable de las ventas totales. Por ejemplo, el rango de 70 a 80 dólares experimenta un descenso significativo hasta los 52.787.579 dólares.\n",
        "4. Las cifras de ventas más bajas se observan en el extremo inferior (de 0 a 10 dólares) y superior (de 110 a 130 dólares) del espectro de precios.\n",
        "\n",
        "#### Insights:\n",
        "- Los productos de precio medio (concretamente, entre 40 y 70 dólares) son los que parecen conseguir mejores ventas. Esto podría indicar que existe un punto óptimo de precios en el que los clientes están más dispuestos a comprar.\n",
        "\n",
        "- Los productos de precio muy bajo (menos de 20 dólares) y los de precio más alto (más de 90 dólares) registran ventas significativamente más bajas. Esto puede deberse a varios factores, como el valor percibido, la calidad del producto, el segmento de clientes objetivo o la disponibilidad.\n",
        "\n",
        "- La gama de 120 a 130 dólares no registra ventas, lo que indica una falta de productos en esta gama o la ausencia de demanda de productos a este precio.\n",
        "\n",
        "#### Conclusion:\n",
        "- Una gama de precios específica, en particular entre 40 y 70 dólares, sí consigue mejores ventas en comparación con otras gamas.\n",
        "\n",
        "- Para entender las razones de esta tendencia se necesitaría un análisis cualitativo adicional, como las preferencias de los clientes, los tipos de productos dentro de cada gama de precios, la competencia en el mercado y las estrategias promocionales.\n",
        "\n",
        "- Esta información puede ser útil para las estrategias de fijación de precios, la gestión de inventarios y las campañas de marketing, centrándose más en las gamas de precios que han mostrado mayores volúmenes de ventas.\n"
      ]
    },
    {
      "cell_type": "markdown",
      "metadata": {
        "id": "o_-IdAQi2cHD"
      },
      "source": [
        "## 7. Optimización del portfolio de productos: ¿Qué productos son más rentables en cada ubicación?"
      ]
    },
    {
      "cell_type": "code",
      "execution_count": null,
      "metadata": {
        "id": "ChtPxN2l2cHD"
      },
      "outputs": [],
      "source": [
        "# Agrupamos los datos por localización (Ciudad) y producto, para quedarnos con el volumen total de ventas y el margen operativo total\n",
        "# en cada par Ciudad/Producto\n",
        "grouped_data = data.groupby(['City', 'Product']).agg({'Operating Profit': 'sum', 'Total Sales': 'sum'}).reset_index()\n",
        "\n",
        "# Calculamos el margen de beneficio para cada producto en cada una de las ubicaciones\n",
        "grouped_data['Profit Margin'] = grouped_data['Operating Profit'] / grouped_data['Total Sales']\n",
        "\n",
        "# Ordenamos dentro de cada localización, ordenamos los productos con mayor margen de beneficio\n",
        "grouped_data.sort_values(by=['City', 'Profit Margin'], ascending=[True, False], inplace=True)\n",
        "\n",
        "# Visualizamos el Top 5 de productos con mejor margen dentro de cada ciudad\n",
        "top_products_by_city = grouped_data.groupby('City').head(5)\n",
        "\n",
        "top_products_by_city"
      ]
    },
    {
      "cell_type": "code",
      "execution_count": null,
      "metadata": {
        "id": "fTsJgkqX2cHD"
      },
      "outputs": [],
      "source": [
        "# Agrupamos los datos por localización (Ciudad) y producto, para quedarnos con el volumen total de ventas en cada par Ciudad/Producto\n",
        "grouped_data = data.groupby(['Product', 'City'])['Total Sales'].sum().reset_index()\n",
        "\n",
        "# Para cada producto, buscamos la ciudad en la que se comporta mejor/peor\n",
        "best_worst_performing_cities = []\n",
        "\n",
        "for product in grouped_data['Product'].unique():\n",
        "    product_data = grouped_data[grouped_data['Product'] == product]\n",
        "    best_city = product_data[product_data['Total Sales'] == product_data['Total Sales'].max()]\n",
        "    worst_city = product_data[product_data['Total Sales'] == product_data['Total Sales'].min()]\n",
        "    best_worst_performing_cities.extend([best_city, worst_city])\n",
        "\n",
        "# Concatenamos los resultados obtenidos en un único y nuevo dataframe\n",
        "best_worst_performing_cities_df = pd.concat(best_worst_performing_cities).reset_index(drop=True)\n",
        "\n",
        "# Visualizamos los resultados\n",
        "print(\"Best and Worst Performing Cities for Each Product:\")\n",
        "best_worst_performing_cities_df"
      ]
    },
    {
      "cell_type": "markdown",
      "source": [
        "**Pregunta:** ¿Qué podemos interpretar a partir de los resultados obtenidos?"
      ],
      "metadata": {
        "id": "ZgodBYESqU8c"
      }
    },
    {
      "cell_type": "markdown",
      "metadata": {
        "id": "AW4i3nvx2cHD"
      },
      "source": [
        "**Respuesta:**\n",
        "\n",
        "**Perspectivas de rentabilidad\n",
        "\n",
        "En Albany, \"Ropa de mujer\" ('Women's Apparel') y \"Calzado de calle para hombre\" ('Men's Street Footwear') son muy rentables, con márgenes de beneficio en torno al 49% y el 46%, respectivamente.\n",
        "Wilmington muestra una tendencia diferente, con \"Ropa de mujer\", \"Calzado deportivo de mujer\" y \"Calzado de calle de mujer\" ('Women's Apparel', 'Women's Athletic Footwear', and 'Women's Street Footwear') a la cabeza de la rentabilidad, cada una en torno al 40%.\n",
        "\n",
        "**Perspectivas de rendimiento de las ventas\n",
        "\n",
        "Nueva York destaca en las ventas de \"Ropa de hombre\", \"Calzado deportivo de hombre\" y \"Calzado deportivo de mujer\" ('Men's Apparel', 'Men's Athletic Footwear', and 'Women's Athletic Footwear'), lo que indica un mercado fuerte para estos productos.\n",
        "Charleston y San Francisco obtienen los mejores resultados en \"Calzado de calle para hombre\" y \"Calzado de calle para mujer\" ('Men's Street Footwear' and 'Women's Street Footwear'), respectivamente.\n",
        "Omaha registra sistemáticamente las ventas más bajas en varios productos, lo que sugiere una penetración o demanda limitadas en el mercado.\n",
        "\n",
        "**Implicaciones generales\n",
        "\n",
        "La popularidad y rentabilidad de los productos varía significativamente según la ciudad, lo que indica la necesidad de estrategias de marketing y ventas adaptadas a cada lugar.\n",
        "El contraste de tendencias entre ciudades como Albany, Wilmington y Omaha pone de manifiesto la diversidad de preferencias de los consumidores y subraya la importancia de adoptar un enfoque local en las estrategias de marketing y ventas."
      ]
    },
    {
      "cell_type": "markdown",
      "metadata": {
        "id": "pENgBQnn2cHD"
      },
      "source": [
        "## 8. Oportunidades de expansión del mercado: Evaluar las tiendas con mejores y peores resultados en función de su ubicación."
      ]
    },
    {
      "cell_type": "code",
      "execution_count": null,
      "metadata": {
        "id": "lkYqwITv2cHD"
      },
      "outputs": [],
      "source": [
        "# Copiamos el dataframe en una nueva variable 'df'\n",
        "df = pd.DataFrame(data)\n",
        "\n",
        "# Agrupamos los datos por Ciudad 'City' y Nombre de la tienda o del minorista 'Retailer'\n",
        "grouped_data = df.groupby(['City', 'Retailer']).agg({\n",
        "    'Total Sales': 'sum',\n",
        "    'Operating Profit': 'sum'\n",
        "}).reset_index()\n",
        "\n",
        "# Calculamos el margen de beneficio para cada pareja Ciudad/Retailer\n",
        "grouped_data['Profit Margin'] = grouped_data['Operating Profit'] / grouped_data['Total Sales']\n",
        "\n",
        "# Ordenamos en función del volumen total de ventas y del margen de beneficio\n",
        "grouped_data = grouped_data.sort_values(by=['City', 'Total Sales', 'Profit Margin'], ascending=[True, False, False])\n",
        "\n",
        "# Presentamos los resultados\n",
        "print(\"Store Performance by City:\")\n",
        "grouped_data"
      ]
    },
    {
      "cell_type": "markdown",
      "source": [
        "**Pregunta:** ¿Qué podemos interpretar a partir de los resultados obtenidos?"
      ],
      "metadata": {
        "id": "8Gz_Z0XzsAgc"
      }
    },
    {
      "cell_type": "markdown",
      "metadata": {
        "id": "2necj8Cv2cHE"
      },
      "source": [
        "**Respuesta:**\n",
        "\n",
        "Los datos se han agregado para mostrar el rendimiento de diferentes tiendas minoristas en varias ciudades.\n",
        "Las métricas clave consideradas son las ventas totales, el beneficio de explotación y el margen de beneficio (Total Sales, Operating Profit, and Profit Margin).\n",
        "Las tiendas están agrupadas por ciudad y minorista, lo que ofrece una visión clara del rendimiento de cada tienda en su respectiva ubicación.\n",
        "\n",
        "- **Mejores resultados:** En Albany, \"West Gear\" es la empresa con mejores resultados, con unas ventas totales de unos 20,7 millones de dólares y un margen de beneficios del 38,9%. Esta cifra es significativamente superior a la de \"Kohl's\" en la misma ciudad, que tiene unas ventas totales de unos 3,7 millones de dólares con un margen de beneficios del 37%.\n",
        "En Albuquerque, \"Kohl's\" lidera con unas ventas totales de 17,1 millones de dólares y un margen de beneficio de aproximadamente el 33,9%.\n",
        "\n",
        "- **Comparación de los resultados de las tiendas:**: En las ciudades con varios minoristas en la lista, como Albuquerque y Wichita, hay una diferencia notable tanto en las ventas como en los márgenes de beneficio entre las tiendas. Por ejemplo, en Albuquerque, \"Kohl's\" no solo tiene mayores ventas totales, sino también un margen de beneficios ligeramente inferior en comparación con \"Sports Direct\".\n",
        "\n",
        "- **Análisis de márgenes de beneficio:**Los márgenes de beneficio varían según las ciudades y las tiendas. Mientras que \"West Gear\" en San Luis tiene un alto margen de beneficio del 40,1%, otras tiendas como \"Amazon\" en Anchorage muestran márgenes de beneficio más bajos (31%).\n",
        "\n",
        "- **Ventas vs. Márgenes de beneficio:** No siempre existe una correlación directa entre ventas elevadas y altos márgenes de beneficio. Por ejemplo, \"Kohl's\" en Wichita tiene mayores ventas que \"Foot Locker\" en la misma ciudad, pero sus márgenes de beneficio son bastante parecidos (35,3% para Kohl's frente a 34,9% para Foot Locker).\n",
        "\n",
        "- **Variaciones regionales:** Los datos indican posibles variaciones regionales en el rendimiento de las tiendas. Las tiendas de distintas ciudades con la misma marca (como \"Kohl's\" en Albany frente a Albuquerque) muestran distintos niveles de ventas y márgenes de beneficio, lo que sugiere que la ubicación es un factor importante en el rendimiento del comercio minorista.\n",
        "\n",
        "- **Conclusion:** Este análisis proporciona información valiosa sobre el rendimiento de las tiendas minoristas en diferentes ciudades, destacando la importancia de la ubicación en las ventas y la rentabilidad. Los datos pueden utilizarse para identificar las zonas fuertes y débiles, optimizar las operaciones y elaborar estrategias de expansión o mejora del mercado."
      ]
    },
    {
      "cell_type": "markdown",
      "metadata": {
        "id": "9mZ3KNNa2cHE"
      },
      "source": [
        "## 9. Análisis de series temporales: Investigar si ha habido una tendencia de ventas constante a lo largo del tiempo o alguna tendencia mensual o estacional notable."
      ]
    },
    {
      "cell_type": "code",
      "execution_count": null,
      "metadata": {
        "id": "FiUbpMB72cHE"
      },
      "outputs": [],
      "source": [
        "# Agrupamos por mes para calcular las ventas totales cada mes\n",
        "monthly_sales = data.groupby(data['Invoice Date'].dt.to_period('M'))['Total Sales'].sum()\n",
        "\n",
        "# Convertimos el índice (que es un tipo de 'Periodo') en objeto de tipo DataTime\n",
        "monthly_sales.index = monthly_sales.index.to_timestamp()\n",
        "\n",
        "# Definimos el estilo de la figura\n",
        "sns.set(style=\"whitegrid\")\n",
        "\n",
        "# Representamos la tendencia de ventas en el tiempo\n",
        "plt.figure(figsize=(12, 7))\n",
        "plt.plot(monthly_sales.index, monthly_sales.values, marker='o', color='teal', linestyle='-', linewidth=2)\n",
        "plt.xlabel('Month', fontsize=12)\n",
        "plt.ylabel('Total Sales', fontsize=12)\n",
        "plt.title('Monthly Sales Trends', fontsize=14)\n",
        "plt.xticks(rotation=0)\n",
        "plt.tick_params(axis='both', which='major', labelsize=10)\n",
        "plt.tight_layout()\n",
        "plt.show()"
      ]
    },
    {
      "cell_type": "markdown",
      "source": [
        "**Pregunta:** ¿Qué podemos interpretar a partir de los resultados obtenidos?"
      ],
      "metadata": {
        "id": "E-D1KbO3uApl"
      }
    },
    {
      "cell_type": "markdown",
      "metadata": {
        "id": "Jkj55QN42cHE"
      },
      "source": [
        "**Respuesta:**\n",
        "\n",
        "#### Resumen:\n",
        "\n",
        "Los datos de ventas mensuales de enero de 2020 a enero de 2022 muestran una variabilidad significativa con picos notables alrededor de abril de 2021 y aumentos consistentes en diciembre y abril de cada año, potencialmente correlacionados con temporadas de vacaciones y promociones de ventas. Los datos muestran una tendencia general al alza en las ventas durante el periodo de dos años, a pesar de algunos descensos notables, especialmente en julio de 2020 y octubre de 2021.\n",
        "\n",
        "#### Tips:\n",
        "\n",
        "Los patrones estacionales observados, con picos y caídas de ventas, ponen de relieve la importancia de comprender el comportamiento de compra de los clientes y el impacto de la estacionalidad en las ventas. Aprovechando esta información, las empresas pueden adaptar sus esfuerzos de marketing, gestión de inventarios y asignación de recursos a los periodos previstos de mayor demanda, garantizando así que se aprovechen al máximo las oportunidades durante las temporadas altas. Este enfoque estratégico puede conducir a una mejor preparación para los picos de demanda, a una mayor satisfacción del cliente y, en general, a un mayor rendimiento de la empresa.\n",
        "\n",
        "\n",
        "\n",
        "\n",
        "\n"
      ]
    },
    {
      "cell_type": "markdown",
      "metadata": {
        "id": "A2-Hpg8h2cHE"
      },
      "source": [
        "# 10. Análisis predictivo de ventas: Desarrollo de una previsión de ventas mensuales."
      ]
    },
    {
      "cell_type": "code",
      "execution_count": null,
      "metadata": {
        "id": "iW8oblJn2cHF"
      },
      "outputs": [],
      "source": [
        "# Creamos un modelo de tipo ARIMA a partir de los datos de ventas mensuales obtenidos en el punto anterior\n",
        "model = ARIMA(monthly_sales, order=(2,1,2))  # Order: (p, d, q)\n",
        "# Entrenamos el modelo\n",
        "model_fit = model.fit()\n",
        "\n",
        "# Realizamos la predicción con el modelo creado para los siguientes 12 meses\n",
        "forecast_steps = 12\n",
        "forecast = model_fit.forecast(steps=forecast_steps)\n",
        "\n",
        "# Visualice los datos de ventas reales y los valores previstos para los próximos meses..\n",
        "plt.figure(figsize=(12, 6))\n",
        "plt.plot(monthly_sales.index, monthly_sales.values, marker='o', label='Actual Sales')\n",
        "plt.plot(pd.date_range(start=monthly_sales.index[-1], periods=forecast_steps+1, freq='M')[1:], forecast, marker='o', label='Forecasted Sales')\n",
        "plt.xlabel('Date')\n",
        "plt.ylabel('Total Sales')\n",
        "plt.title('Monthly Sales Forecast')\n",
        "plt.legend()\n",
        "plt.xticks(rotation=0)\n",
        "plt.grid(True)\n",
        "plt.show()"
      ]
    },
    {
      "cell_type": "markdown",
      "source": [
        "**Pregunta:** ¿Qué podemos interpretar a partir de los resultados obtenidos?"
      ],
      "metadata": {
        "id": "d9eKA9eVuHrE"
      }
    },
    {
      "cell_type": "markdown",
      "source": [
        "**Respuesta:**"
      ],
      "metadata": {
        "id": "RWCgBwg3uHim"
      }
    },
    {
      "cell_type": "markdown",
      "source": [
        "# 11. ¿Cómo es la distribución de ventas según el precio unitario del producto? ¿Existen outliers?"
      ],
      "metadata": {
        "id": "ZoCS4Cacy6HY"
      }
    },
    {
      "cell_type": "code",
      "source": [
        "# Visualizar outliers utilizando un boxplot\n",
        "plt.figure(figsize=(10, 6))\n",
        "sns.boxplot(data=data['Price per Unit'])\n",
        "plt.xticks(rotation=45)  # Rotar las etiquetas del eje x para una mejor visualización\n",
        "plt.title('Diagrama de Caja para Detectar Outliers')\n",
        "plt.show()"
      ],
      "metadata": {
        "id": "-n8266b-0Qoi"
      },
      "execution_count": null,
      "outputs": []
    },
    {
      "cell_type": "markdown",
      "source": [
        "**Pregunta:** ¿Qué podemos interpretar a partir de los resultados obtenidos?"
      ],
      "metadata": {
        "id": "yG8wyDpG1UUM"
      }
    },
    {
      "cell_type": "markdown",
      "source": [
        "**Pregunta:**\n",
        "\n",
        "- Como ya hemos visto, la media del precio de los productos vendidos se encuentra ligeramente por encima de 40 dólares, con la mayor parte entre 35 y 65 dólares\n",
        "\n",
        "- Existen outliers de productos con precios unitarios muy superiores al resto"
      ],
      "metadata": {
        "id": "t2i8KEvC1U66"
      }
    }
  ],
  "metadata": {
    "kernelspec": {
      "display_name": "Python 3",
      "language": "python",
      "name": "python3"
    },
    "language_info": {
      "codemirror_mode": {
        "name": "ipython",
        "version": 3
      },
      "file_extension": ".py",
      "mimetype": "text/x-python",
      "name": "python",
      "nbconvert_exporter": "python",
      "pygments_lexer": "ipython3",
      "version": "3.10.8"
    },
    "colab": {
      "provenance": [],
      "collapsed_sections": [
        "FcTkkNWu2cG4",
        "DS99utEZ2cG4"
      ]
    }
  },
  "nbformat": 4,
  "nbformat_minor": 0
}